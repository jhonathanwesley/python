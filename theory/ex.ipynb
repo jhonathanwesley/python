{
 "cells": [
  {
   "cell_type": "code",
   "execution_count": 27,
   "metadata": {},
   "outputs": [],
   "source": [
    "# Desafio: Script de média de notas\n",
    "def media(*args):\n",
    "    notas = list()\n",
    "    try:\n",
    "        if not args:\n",
    "            for i in range(2):\n",
    "                notas.append(float(input(f'Digite duas notas para obter a média: ')))\n",
    "            print(f'Sua média é {sum(notas) / len(notas):.2}')\n",
    "        else:\n",
    "            print(f'Sua média é {sum(args) / len(args):.2}')\n",
    "\n",
    "    except:\n",
    "        print(f'Houve um erro, reinicie o programa!')"
   ]
  },
  {
   "cell_type": "code",
   "execution_count": 28,
   "metadata": {},
   "outputs": [
    {
     "name": "stdout",
     "output_type": "stream",
     "text": [
      "Sua média é 8.7\n"
     ]
    }
   ],
   "source": [
    "media(1, 22, 3)"
   ]
  }
 ],
 "metadata": {
  "kernelspec": {
   "display_name": "venv",
   "language": "python",
   "name": "python3"
  },
  "language_info": {
   "codemirror_mode": {
    "name": "ipython",
    "version": 3
   },
   "file_extension": ".py",
   "mimetype": "text/x-python",
   "name": "python",
   "nbconvert_exporter": "python",
   "pygments_lexer": "ipython3",
   "version": "3.12.7"
  }
 },
 "nbformat": 4,
 "nbformat_minor": 2
}
