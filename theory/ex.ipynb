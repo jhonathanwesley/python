{
 "cells": [
  {
   "cell_type": "markdown",
   "metadata": {},
   "source": [
    "# Exercícios\n",
    "\n",
    "> Alguns exercícios para fixação de conceitos\n",
    "\n",
    "---\n"
   ]
  },
  {
   "cell_type": "code",
   "execution_count": 27,
   "metadata": {},
   "outputs": [],
   "source": [
    "# Desafio: Script de média de notas\n",
    "def media(*args):\n",
    "    notas = list()\n",
    "    try:\n",
    "        if not args:\n",
    "            for i in range(2):\n",
    "                notas.append(float(input(f'Digite duas notas para obter a média: ')))\n",
    "            print(f'Sua média é {sum(notas) / len(notas):.2}')\n",
    "        else:\n",
    "            print(f'Sua média é {sum(args) / len(args):.2}')\n",
    "\n",
    "    except:\n",
    "        print(f'Houve um erro, reinicie o programa!')"
   ]
  },
  {
   "cell_type": "code",
   "execution_count": 28,
   "metadata": {},
   "outputs": [
    {
     "name": "stdout",
     "output_type": "stream",
     "text": [
      "Sua média é 8.7\n"
     ]
    }
   ],
   "source": [
    "media(1, 22, 3)"
   ]
  },
  {
   "cell_type": "code",
   "execution_count": 22,
   "metadata": {},
   "outputs": [],
   "source": [
    "# Usando laço de repetição WHILE\n",
    "\n",
    "# Cadastro\n",
    "class SistemUser():\n",
    "\n",
    "    def __init__(self):\n",
    "        username = ''\n",
    "        password = 'default_pass'\n",
    "        pass_validation = 'default_validation_pass'\n",
    "        self.username = username\n",
    "        self.password = password\n",
    "        self.pass_validation = pass_validation\n",
    "        print('Classe recebida, instância criada')\n",
    "\n",
    "    def sign_up(self):\n",
    "        while len(self.username) < 8:\n",
    "            self.username = input(f\"Bem Vindo!\\n\\nCrie um nome de usuário\\n{'-' * 50}\\n-> Um nome de usuário válido deve conter no mínimo 8 caracteres: \")\n",
    "\n",
    "        while self.password != self.pass_validation:\n",
    "            self.password = input(f'Crie uma senha válida e segura: ')\n",
    "            self.pass_validation = input(f'Agora confirme sua senha, deve ser igual a senha digitada anteriormente: ')\n",
    "    \n",
    "    def log_in(self):\n",
    "        typed_username = ''\n",
    "        typed_password = ''\n",
    "\n",
    "        while self.username != typed_username:\n",
    "            typed_username = input(f'Seu Usuário: ')\n",
    "        \n",
    "        while self.password != typed_password:\n",
    "            typed_password = input(f'Sua Senha: ')"
   ]
  },
  {
   "cell_type": "code",
   "execution_count": 23,
   "metadata": {},
   "outputs": [
    {
     "name": "stdout",
     "output_type": "stream",
     "text": [
      "Classe recebida, instância criada\n"
     ]
    }
   ],
   "source": [
    "j = SistemUser()"
   ]
  },
  {
   "cell_type": "code",
   "execution_count": 25,
   "metadata": {},
   "outputs": [],
   "source": [
    "j.sign_up()"
   ]
  },
  {
   "cell_type": "code",
   "execution_count": 27,
   "metadata": {},
   "outputs": [],
   "source": [
    "j.log_in()"
   ]
  },
  {
   "cell_type": "code",
   "execution_count": 87,
   "metadata": {},
   "outputs": [
    {
     "name": "stdout",
     "output_type": "stream",
     "text": [
      "- - - - - - - - - - - - - - - Tabuada do 5 - - - - - - - - - - - - - - -\n",
      "5 x 1 = 5\n",
      "5 x 2 = 10\n",
      "5 x 3 = 15\n",
      "5 x 4 = 20\n",
      "5 x 5 = 25\n",
      "5 x 6 = 30\n",
      "5 x 7 = 35\n",
      "5 x 8 = 40\n",
      "5 x 9 = 45\n",
      "5 x 10 = 50\n"
     ]
    }
   ],
   "source": [
    "def tabuada():\n",
    "    fail_breaker = 0\n",
    "    num = 1\n",
    "    try:\n",
    "        num = int(input(\"De qual número quer saber a tabauda? \"))\n",
    "    except:\n",
    "        print('O que você digitou causou um erro, corrija inserindo um valor inteiro para que o programa funcione normalmente')\n",
    "        fail_breaker = 'falhou'\n",
    "\n",
    "    i=1\n",
    "    if fail_breaker == 'falhou':\n",
    "        print('6O PROGRAMA FALHOU, TENTE NOVAMENTE!')\n",
    "    else:\n",
    "        print(f'{\"- \"*15}Tabuada do {num}{\" -\"*15}')\n",
    "        while i <= 10:\n",
    "            print(f\"{num} x {i} = {num * i}\")\n",
    "            i += 1\n",
    "\n",
    "tabuada()"
   ]
  }
 ],
 "metadata": {
  "kernelspec": {
   "display_name": "venv",
   "language": "python",
   "name": "python3"
  },
  "language_info": {
   "codemirror_mode": {
    "name": "ipython",
    "version": 3
   },
   "file_extension": ".py",
   "mimetype": "text/x-python",
   "name": "python",
   "nbconvert_exporter": "python",
   "pygments_lexer": "ipython3",
   "version": "3.12.3"
  }
 },
 "nbformat": 4,
 "nbformat_minor": 2
}
